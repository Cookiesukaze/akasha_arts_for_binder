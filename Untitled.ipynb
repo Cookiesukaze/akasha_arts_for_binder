{
 "cells": [
  {
   "cell_type": "code",
   "execution_count": null,
   "id": "e75be414-241d-4241-9573-4fad016eb32b",
   "metadata": {},
   "outputs": [],
   "source": []
  }
 ],
 "metadata": {
  "kernelspec": {
   "display_name": "C++17",
   "language": "C++17",
   "name": "xcpp17"
  },
  "language_info": {
   "codemirror_mode": "text/x-c++src",
   "file_extension": ".cpp",
   "mimetype": "text/x-c++src",
   "name": "c++",
   "version": "17"
  }
 },
 "nbformat": 4,
 "nbformat_minor": 5
}
